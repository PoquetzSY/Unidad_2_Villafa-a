{
 "cells": [
  {
   "cell_type": "code",
   "execution_count": 1,
   "id": "63e36896",
   "metadata": {},
   "outputs": [
    {
     "name": "stdout",
     "output_type": "stream",
     "text": [
      "Ingrese su apellidos: Gómez Flores\n",
      "Ingrese su nombres: Luis Enrique\n",
      "Ingrese su sexo (H/M): H\n",
      "Ingrese su domicilio: micasa\n",
      "Ingrese su clave de elector: 123\n",
      "Ingrese su CURP: GOFL031008HDFLMSA1\n",
      "Ingrese su dia de nacimiento: 08\n",
      "Ingrese su mes de nacimiento: 10\n",
      "Ingrese su año de nacimiento: 2003\n",
      "Ingrese la sección: 0826\n",
      "Ingrese el año de registro (yyyy): 2021\n",
      "Ingrese el año de inicio de la vigencia (yyyy): 2021\n",
      "Ingrese el año de final de la vigencia (yyyy): 2031\n",
      "Los datos se han guardado en 'ine.txt'.\n",
      "Nombre: Gómez Flores Luis Enrique\n",
      "Sexo: H\n",
      "Domicilio: micasa\n",
      "Clave de Elector: 123\n",
      "CURP: GOFL031008HDFLMSA1\n",
      "Fecha de Nacimiento: 8/10/2003\n",
      "Sección: 826\n",
      "Año de Registro: 2021\n",
      "Vigencia: 2021 - 2031\n",
      "\n"
     ]
    }
   ],
   "source": [
    "datos_ine = {}\n",
    "\n",
    "apellidos = input(\"Ingrese su apellidos: \")\n",
    "nombres = input(\"Ingrese su nombres: \")\n",
    "sexo = input(\"Ingrese su sexo (H/M): \")\n",
    "domicilio = input(\"Ingrese su domicilio: \")\n",
    "clave_ele = input(\"Ingrese su clave de elector: \")\n",
    "curp = input(\"Ingrese su CURP: \")\n",
    "dia = int(input(\"Ingrese su dia de nacimiento: \"))\n",
    "mes = int(input(\"Ingrese su mes de nacimiento: \"))\n",
    "anio = int(input(\"Ingrese su año de nacimiento: \"))\n",
    "secc = int(input(\"Ingrese la sección: \"))\n",
    "año_re = int(input(\"Ingrese el año de registro (yyyy): \"))\n",
    "inicio = int(input(\"Ingrese el año de inicio de la vigencia (yyyy): \"))\n",
    "final = int(input(\"Ingrese el año de final de la vigencia (yyyy): \"))\n",
    "\n",
    "nombre_c = f\"{apellidos} {nombres}\"\n",
    "fecha_na = f\"{dia}/{mes}/{anio}\"\n",
    "vig = f\"{inicio} - {final}\"\n",
    "\n",
    "datos_ine['Nombre'] = nombre_c\n",
    "datos_ine['Sexo'] = sexo\n",
    "datos_ine['Domicilio'] = domicilio\n",
    "datos_ine['Clave de Elector'] = clave_ele\n",
    "datos_ine['CURP'] = curp\n",
    "datos_ine['Fecha de Nacimiento'] = fecha_na\n",
    "datos_ine['Sección'] = secc\n",
    "datos_ine['Año de Registro'] = año_re\n",
    "datos_ine['Vigencia'] = vig\n",
    "\n",
    "\n",
    "with open('ine.txt', 'w') as archivo:\n",
    "    \n",
    "    for k, v in datos_ine.items():\n",
    "        archivo.write(f\"{k}: {v}\\n\")\n",
    "\n",
    "print(\"Los datos se han guardado en 'ine.txt'.\")\n",
    "\n",
    "arch = open('ine.txt', 'r')\n",
    "\n",
    "contenido = arch.read()\n",
    "\n",
    "print(contenido)"
   ]
  },
  {
   "cell_type": "code",
   "execution_count": null,
   "id": "bf39d484",
   "metadata": {},
   "outputs": [],
   "source": []
  }
 ],
 "metadata": {
  "kernelspec": {
   "display_name": "Python 3 (ipykernel)",
   "language": "python",
   "name": "python3"
  },
  "language_info": {
   "codemirror_mode": {
    "name": "ipython",
    "version": 3
   },
   "file_extension": ".py",
   "mimetype": "text/x-python",
   "name": "python",
   "nbconvert_exporter": "python",
   "pygments_lexer": "ipython3",
   "version": "3.11.4"
  }
 },
 "nbformat": 4,
 "nbformat_minor": 5
}
