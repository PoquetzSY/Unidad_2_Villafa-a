{
 "cells": [
  {
   "cell_type": "code",
   "execution_count": null,
   "id": "0f8abaa4",
   "metadata": {},
   "outputs": [],
   "source": [
    "import noemi\n",
    "valoru = int(input('Cual es el primer valor? '))\n",
    "valorf = int(input('Cual es el segundo valor? '))\n",
    "pot = int(input('A que potencia quieres elevar los valores? '))\n",
    "print(\"\")\n",
    "\n",
    "suma = suman.suma(valoru,valorf)\n",
    "resta = restan.resta(valoru,valorf)\n",
    "multi = multiplicacionn.multiplicacion(valoru,valorf)\n",
    "division = divisionn.division(valoru,valorf)\n",
    "potenciau = potencian.potencia(valoru,pot)\n",
    "potenciaf = potencian.potencia(valorf,pot)\n",
    "raizu = raizn.raiz(valoru)\n",
    "raizf = raizn.raiz(valorf)\n",
    "\n",
    "print(suma)\n",
    "print(resta)\n",
    "print(multi)\n",
    "print(division)\n",
    "print(f\"La potencia del primer valor es: {potenciau}\")\n",
    "print(f\"La potencia del segundo valor es: {potenciaf}\")\n",
    "print(f\"La raiz cuadrada del primer valor es: {raizu}\")\n",
    "print(f\"La raiz cuadrada del segundo valor es: {raizf}\")"
   ]
  },
  {
   "cell_type": "code",
   "execution_count": null,
   "id": "b12f1a8d",
   "metadata": {},
   "outputs": [],
   "source": []
  }
 ],
 "metadata": {
  "kernelspec": {
   "display_name": "Python 3 (ipykernel)",
   "language": "python",
   "name": "python3"
  },
  "language_info": {
   "codemirror_mode": {
    "name": "ipython",
    "version": 3
   },
   "file_extension": ".py",
   "mimetype": "text/x-python",
   "name": "python",
   "nbconvert_exporter": "python",
   "pygments_lexer": "ipython3",
   "version": "3.11.4"
  }
 },
 "nbformat": 4,
 "nbformat_minor": 5
}
