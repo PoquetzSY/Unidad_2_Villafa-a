{
 "cells": [
  {
   "cell_type": "code",
   "execution_count": 1,
   "id": "60d69ce2",
   "metadata": {},
   "outputs": [
    {
     "name": "stdout",
     "output_type": "stream",
     "text": [
      "1\n",
      "3\n",
      "5\n",
      "7\n",
      "9\n"
     ]
    }
   ],
   "source": [
    "for i in range(1,11,2):\n",
    "    print(i)"
   ]
  },
  {
   "cell_type": "code",
   "execution_count": null,
   "id": "1df07d33",
   "metadata": {},
   "outputs": [],
   "source": [
    "#Tabla infinita\n",
    "\n",
    "#El usuario va a definir el multiplicando y el multiplicador, asi como el tamaño de la tabla\n",
    "\n",
    "iniciotab = int(input('Desde que tabla inicia?: '))\n",
    "finaltab = int(input('Hasta que tabla llegara?: '))\n",
    "empezar = int(input('Desde que valor empezara?: '))\n",
    "limite = int(input('Cuantos valores habra por tabla?: '))\n",
    "print('\\n')\n",
    "\n",
    "for i in range(iniciotab,finaltab+1):\n",
    "    for k in range(empezar, limite+1):\n",
    "        print(i,'x',k,'=',i*k)\n",
    "    print('\\n')"
   ]
  },
  {
   "cell_type": "code",
   "execution_count": 27,
   "id": "9df3930c",
   "metadata": {},
   "outputs": [
    {
     "name": "stdout",
     "output_type": "stream",
     "text": [
      "hola mundo\n"
     ]
    }
   ],
   "source": [
    "def Hola():\n",
    "    print('hola mundo')\n",
    "\n",
    "Hola()"
   ]
  },
  {
   "cell_type": "code",
   "execution_count": 3,
   "id": "f007d25a",
   "metadata": {},
   "outputs": [
    {
     "name": "stdout",
     "output_type": "stream",
     "text": [
      "truste\n"
     ]
    }
   ],
   "source": [
    "def mequieres(respuesta):\n",
    "    if(respuesta==\"si\"):\n",
    "        print('Me quiere<3')\n",
    "    else:\n",
    "        print('truste')\n",
    "        \n",
    "mequieres('no')"
   ]
  },
  {
   "cell_type": "code",
   "execution_count": 2,
   "id": "f8583a02",
   "metadata": {},
   "outputs": [
    {
     "name": "stdout",
     "output_type": "stream",
     "text": [
      "<class 'float'>\n"
     ]
    }
   ],
   "source": [
    "# Diccionarios\n",
    "\n",
    "persona = {\n",
    "    \"nombre\":\"Luis\",\n",
    "    \"ape_paterno\":\"Gómez\",\n",
    "    \"ape_materno\":\"Flores\",\n",
    "    \"edad\":19,\n",
    "    \"fecha_naci\":\"08/10/2003\",\n",
    "    \"altura\":1.74,\n",
    "    \"peso\":80\n",
    "}\n",
    "\n",
    "print(type(persona[\"altura\"]))"
   ]
  },
  {
   "cell_type": "code",
   "execution_count": 26,
   "id": "2248faf4",
   "metadata": {},
   "outputs": [
    {
     "name": "stdout",
     "output_type": "stream",
     "text": [
      "26.42356982428326\n"
     ]
    }
   ],
   "source": [
    "def imc(peso,estatura):\n",
    "    return peso/estatura**2\n",
    "\n",
    "inpeso= imc(persona[\"peso\"],persona[\"estatura\"])\n",
    "print(inpeso)"
   ]
  },
  {
   "cell_type": "code",
   "execution_count": 28,
   "id": "19cdb90f",
   "metadata": {},
   "outputs": [
    {
     "name": "stdout",
     "output_type": "stream",
     "text": [
      "Sobrepeso\n"
     ]
    }
   ],
   "source": [
    "def nivel(indice):\n",
    "    if indice < 18.5:\n",
    "        return \"Bajo peso\"\n",
    "    elif indice == 18.5 or indice < 25:\n",
    "        return \"Peso normal\"\n",
    "    elif indice == 25 or indice < 29.9:\n",
    "        return \"Sobrepeso\"\n",
    "    else:\n",
    "        return \"Obesidad\"\n",
    "        \n",
    "print(nivel(inpeso))"
   ]
  },
  {
   "cell_type": "code",
   "execution_count": 6,
   "id": "e8002948",
   "metadata": {},
   "outputs": [
    {
     "name": "stdout",
     "output_type": "stream",
     "text": [
      "Luis estas Sobrepeso: IMC 26.4\n"
     ]
    }
   ],
   "source": [
    "def imc(peso, altura, nombre):\n",
    "    imc_p= peso/altura**2\n",
    "    categorias = [\n",
    "        (18.5, \"Bajo peso\"),\n",
    "        (24.9, \"Normal\"),\n",
    "        (29.9, \"Sobrepeso\"),\n",
    "        (float('inf'),\"Obesidad\")\n",
    "    ]\n",
    "    \n",
    "    for limite, descripcion in categorias:\n",
    "        if imc_p <= limite:\n",
    "            print(f\"{nombre} estas {descripcion}: IMC {round(imc_p,1)}\")\n",
    "            break\n",
    "            \n",
    "    \n",
    "peso_p = persona[\"peso\"]\n",
    "altura_p = persona[\"altura\"]\n",
    "nombre_p = persona[\"nombre\"]\n",
    "\n",
    "imc(peso_p, altura_p, nombre_p)"
   ]
  },
  {
   "cell_type": "code",
   "execution_count": 10,
   "id": "82bb47a8",
   "metadata": {},
   "outputs": [],
   "source": [
    "# Ejercicio con Try Except\n",
    "\n",
    "personajes = [\"Goku\",\"Vegeta\",\"Gohan\",\"Broly\",\"Trunks\",\"Goten\",\"Pan\",\"Bra\"]"
   ]
  },
  {
   "cell_type": "code",
   "execution_count": 21,
   "id": "4845dfbe",
   "metadata": {},
   "outputs": [
    {
     "name": "stdout",
     "output_type": "stream",
     "text": [
      "Error desconocido: list indices must be integers or slices, not str\n"
     ]
    }
   ],
   "source": [
    "def buscar_personaje(indice):\n",
    "    try:\n",
    "        return personajes[indice]\n",
    "    except IndexError:\n",
    "        return \"El indice del personaje no existe!\"\n",
    "    except NameError:\n",
    "        return f\"name {a} no esta definido\"\n",
    "    except Exception as e:\n",
    "        return f\"Error desconocido: {e}\"\n",
    "    \n",
    "print(buscar_personaje(\"a\"))"
   ]
  },
  {
   "cell_type": "code",
   "execution_count": 9,
   "id": "f9c27c5b",
   "metadata": {},
   "outputs": [
    {
     "name": "stdout",
     "output_type": "stream",
     "text": [
      "Luis estas Sobrepeso: IMC 26.4\n"
     ]
    }
   ],
   "source": [
    "import imc_module\n",
    "\n",
    "persona = {\n",
    "    \"nombre\":\"Luis\",\n",
    "    \"ape_paterno\":\"Gómez\",\n",
    "    \"ape_materno\":\"Flores\",\n",
    "    \"edad\":19,\n",
    "    \"fecha_naci\":\"08/10/2003\",\n",
    "    \"altura\":1.74,\n",
    "    \"peso\":80\n",
    "}\n",
    "\n",
    "peso_p = persona[\"peso\"]\n",
    "altura_p = persona[\"altura\"]\n",
    "nombre_p = persona[\"nombre\"]\n",
    "\n",
    "imc_p = imc_module.imc(peso_p,altura_p,nombre_p)\n",
    "\n",
    "imc_p"
   ]
  },
  {
   "cell_type": "code",
   "execution_count": 2,
   "id": "65f346dc",
   "metadata": {},
   "outputs": [
    {
     "name": "stdout",
     "output_type": "stream",
     "text": [
      "Cual es el primer valor? 3\n",
      "Cual es el segundo valor? 5\n",
      "A que potencia quieres elevar los valores? 2\n",
      "\n",
      "La suma de los valores es: 8\n",
      "La resta de los valores es: -2\n",
      "La multiplicacion de los valores es: 15\n",
      "La division de los valores es: 0.6\n",
      "La potencia del primer valor es: 9\n",
      "La potencia del segundo valor es: 25\n",
      "La raiz cuadrada del primer valor es: 1.7320508075688772\n",
      "La raiz cuadrada del segundo valor es: 2.23606797749979\n"
     ]
    }
   ],
   "source": [
    "import matematicas\n",
    "valoru = int(input('Cual es el primer valor? '))\n",
    "valorf = int(input('Cual es el segundo valor? '))\n",
    "pot = int(input('A que potencia quieres elevar los valores? '))\n",
    "print(\"\")\n",
    "\n",
    "suma = sumam.suma(valoru,valorf)\n",
    "resta = restam.resta(valoru,valorf)\n",
    "multi = multiplicacionm.multiplicacion(valoru,valorf)\n",
    "division = divisionm.division(valoru,valorf)\n",
    "potenciau = potenciam.potencia(valoru,pot)\n",
    "potenciaf = potenciam.potencia(valorf,pot)\n",
    "raizu = raizm.raiz(valoru)\n",
    "raizf = raizm.raiz(valorf)\n",
    "\n",
    "print(suma)\n",
    "print(resta)\n",
    "print(multi)\n",
    "print(division)\n",
    "print(f\"La potencia del primer valor es: {potenciau}\")\n",
    "print(f\"La potencia del segundo valor es: {potenciaf}\")\n",
    "print(f\"La raiz cuadrada del primer valor es: {raizu}\")\n",
    "print(f\"La raiz cuadrada del segundo valor es: {raizf}\")"
   ]
  },
  {
   "cell_type": "code",
   "execution_count": null,
   "id": "2bd4b1c8",
   "metadata": {},
   "outputs": [],
   "source": []
  }
 ],
 "metadata": {
  "kernelspec": {
   "display_name": "Python 3 (ipykernel)",
   "language": "python",
   "name": "python3"
  },
  "language_info": {
   "codemirror_mode": {
    "name": "ipython",
    "version": 3
   },
   "file_extension": ".py",
   "mimetype": "text/x-python",
   "name": "python",
   "nbconvert_exporter": "python",
   "pygments_lexer": "ipython3",
   "version": "3.11.4"
  }
 },
 "nbformat": 4,
 "nbformat_minor": 5
}
